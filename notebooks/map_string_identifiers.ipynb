{
 "cells": [
  {
   "cell_type": "code",
   "execution_count": 3,
   "metadata": {},
   "outputs": [],
   "source": [
    "import requests \n",
    "\n",
    "string_api_url = \"https://version-11-5.string-db.org/api\"\n",
    "output_format = \"tsv-no-header\"\n",
    "method = \"get_string_ids\"\n",
    "\n",
    "\n",
    "l1000 = []\n",
    "with open('data/L1000.txt', 'r') as file:\n",
    "    for line in file:\n",
    "        l1000.append(line.rstrip())\n",
    "\n",
    "params = {\n",
    "    \"identifiers\" : \"\\r\".join(l1000),\n",
    "    \"species\" : 9606,\n",
    "    \"limit\" : 1,\n",
    "    \"echo_query\" : 1\n",
    "}\n",
    "\n",
    "results = requests.post(\"/\".join([string_api_url, output_format, method]), data=params)\n",
    "with open('data/L1000_to_STRING.txt', 'w') as f:\n",
    "    for line in results.text.strip().split(\"\\n\"):\n",
    "        l = line.split(\"\\t\")\n",
    "        f.write(l[0] + \"\\t\" + l[2] + \"\\n\")"
   ]
  }
 ],
 "metadata": {
  "kernelspec": {
   "display_name": "dev",
   "language": "python",
   "name": "python3"
  },
  "language_info": {
   "codemirror_mode": {
    "name": "ipython",
    "version": 3
   },
   "file_extension": ".py",
   "mimetype": "text/x-python",
   "name": "python",
   "nbconvert_exporter": "python",
   "pygments_lexer": "ipython3",
   "version": "3.10.10"
  },
  "orig_nbformat": 4
 },
 "nbformat": 4,
 "nbformat_minor": 2
}
