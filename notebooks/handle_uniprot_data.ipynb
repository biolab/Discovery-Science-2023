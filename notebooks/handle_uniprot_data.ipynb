{
 "cells": [
  {
   "cell_type": "code",
   "execution_count": 49,
   "metadata": {},
   "outputs": [
    {
     "name": "stderr",
     "output_type": "stream",
     "text": [
      "1058it [08:15,  2.14it/s]\n"
     ]
    }
   ],
   "source": [
    "\n",
    "import requests\n",
    "import time\n",
    "import json\n",
    "\n",
    "from tqdm import tqdm\n",
    "\n",
    "\n",
    "\n",
    "# l1000 = []\n",
    "# entrez_ids = []\n",
    "# with open('../data/L1000.txt', 'r') as file:\n",
    "#     for line in file:\n",
    "#         name, entrez = line.rstrip().split('\\t')\n",
    "#         l1000.append(name.rstrip())\n",
    "#         entrez_ids.append(entrez.rstrip())\n",
    "\n",
    "# results = []\n",
    "# for gene, entrez_id in zip(l1000, entrez_ids):\n",
    "#     hgnc_fetch = f'https://rest.genenames.org/fetch/entrez_id/{entrez_id}'\n",
    "#     response = requests.get(hgnc_fetch, headers={'Accept': 'application/json'})\n",
    "#     response = response.json()\n",
    "#     print((gene, entrez_id, response['response']['docs'][0]['uniprot_ids'][0]))\n",
    "\n",
    "#     results.append((gene, entrez_id, response['response']['docs'][0]['uniprot_ids'][0]))\n",
    "#     time.sleep(0.1)\n",
    "\n",
    "# with open('../data/L1000_to_uniprot.txt', 'w') as f:\n",
    "#     for gene_name, entrez_id, uniprot_assension in results:\n",
    "#         f.write(gene_name + \"\\t\" + entrez_id + \"\\t\" + uniprot_assension + \"\\n\")\n",
    "\n",
    "\n",
    "# Download uniprot data\n",
    "uniprot_data = []\n",
    "with open('../data/L1000_to_uniprot.txt', 'r') as file:\n",
    "\n",
    "    for line in tqdm(file):\n",
    "        gene_name, entrez_id, uniprotkb_assension  = line.rstrip().split('\\t')\n",
    "\n",
    "        if uniprotkb_assension == '?':\n",
    "            continue\n",
    "        \n",
    "        response = requests.get(f'https://rest.uniprot.org/uniprotkb/{uniprotkb_assension}.json')\n",
    "\n",
    "        with open(f'../data/uniprot_data/by_id/{uniprotkb_assension}.json', 'w') as file:\n",
    "            json.dump(response.json(), file)\n",
    "\n",
    "        time.sleep(0.1)\n"
   ]
  },
  {
   "cell_type": "code",
   "execution_count": 53,
   "metadata": {},
   "outputs": [],
   "source": [
    "# store uniprot data in a csv file (L1000_name, uniprotkb_assension, function_description, subunit_interactions)\n",
    "import pandas as pd\n",
    "\n",
    "uniprot_data = []\n",
    "\n",
    "with open('../data/L1000_to_uniprot.txt', 'r') as file:\n",
    "    for line in file:\n",
    "        gene_name, entrez_id, uniprotkb_assension  = line.rstrip().split('\\t')\n",
    "\n",
    "        if uniprotkb_assension == '?':\n",
    "            continue\n",
    "\n",
    "        with open(f'../data/uniprot_data/by_id/{uniprotkb_assension}.json', 'r') as f:\n",
    "            protein_data = json.loads(f.read())\n",
    "\n",
    "            for comment in protein_data['comments']:\n",
    "                if comment['commentType'] == 'FUNCTION':\n",
    "                    function_description = comment['texts'][0]['value']\n",
    "\n",
    "                if comment['commentType'] == 'SUBUNIT':\n",
    "                    subunit_interactions = comment['texts'][0]['value']\n",
    "\n",
    "            uniprot_data.append((gene_name, uniprotkb_assension, function_description, subunit_interactions))\n",
    "\n",
    "df = pd.DataFrame(uniprot_data, columns=['L1000_name', 'uniprotkb_assension', 'function_description', 'subunit_interactions'])\n",
    "df.to_csv(f'../data/uniprot_data/uniprot_data.csv', index=False)"
   ]
  }
 ],
 "metadata": {
  "kernelspec": {
   "display_name": "orange",
   "language": "python",
   "name": "python3"
  },
  "language_info": {
   "codemirror_mode": {
    "name": "ipython",
    "version": 3
   },
   "file_extension": ".py",
   "mimetype": "text/x-python",
   "name": "python",
   "nbconvert_exporter": "python",
   "pygments_lexer": "ipython3",
   "version": "3.10.8"
  },
  "orig_nbformat": 4
 },
 "nbformat": 4,
 "nbformat_minor": 2
}
