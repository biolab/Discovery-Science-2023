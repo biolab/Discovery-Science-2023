{
 "cells": [
  {
   "cell_type": "code",
   "execution_count": 5,
   "metadata": {},
   "outputs": [
    {
     "name": "stderr",
     "output_type": "stream",
     "text": [
      "1058it [17:16,  1.02it/s]\n"
     ]
    }
   ],
   "source": [
    "\n",
    "import requests\n",
    "import time\n",
    "import json\n",
    "\n",
    "from tqdm import tqdm\n",
    "\n",
    "\n",
    "# Download uniprot id mapping and save it to data/uniprot_id_mapping.json\n",
    "# We used L1000.txt genes as an input to uniprot id mapper\n",
    "\n",
    "# https://www.uniprot.org/id-mapping/uniprotkb/b9d6a74dbbc83b9228e0bbc46a6e94ca732cb379/overview?facets=reviewed%3Atrue&query=*&fields=accession%2Cid%2Cgene_names\n",
    "\n",
    "\n",
    "l1000 = []\n",
    "with open('../data/L1000.txt', 'r') as file:\n",
    "    for line in file:\n",
    "        l1000.append(line.rstrip())\n",
    "\n",
    "with open('../data/uniprot_id_mapping.json', 'r') as file:\n",
    "    # uniprot_data = json.loads(file.read())\n",
    "    gene_to_uniprot = {}\n",
    "    for result in json.loads(file.read())['results']:\n",
    "        gene_to_uniprot[result['from']] = result['to']['primaryAccession']\n",
    "\n",
    "with open('../data/L1000_to_uniprot.txt', 'w') as f:\n",
    "    for gene in l1000:\n",
    "        f.write(gene + \"\\t\" + gene_to_uniprot.get(gene, '?') + \"\\n\")\n",
    "\n",
    "\n",
    "\n",
    "# Download uniprot data\n",
    "uniprot_data = []\n",
    "with open('../data/L1000_to_uniprot.txt', 'r') as file:\n",
    "\n",
    "    for line in tqdm(file):\n",
    "        l1000_name, uniprotkb_assension = line.rstrip().split('\\t')\n",
    "\n",
    "        if uniprotkb_assension == '?':\n",
    "            continue\n",
    "        \n",
    "        response = requests.get(f'https://rest.uniprot.org/uniprotkb/{uniprotkb_assension}.json')\n",
    "\n",
    "        with open(f'../data/uniprot_data/by_id/{uniprotkb_assension}.json', 'w') as file:\n",
    "            json.dump(response.json(), file)\n",
    "\n",
    "        time.sleep(0.1)\n"
   ]
  },
  {
   "cell_type": "code",
   "execution_count": 9,
   "metadata": {},
   "outputs": [],
   "source": [
    "# store uniprot data in a csv file (L1000_name, uniprotkb_assension, function_description, subunit_interactions)\n",
    "import pandas as pd\n",
    "\n",
    "uniprot_data = []\n",
    "\n",
    "with open('data/L1000_to_uniprot.txt', 'r') as file:\n",
    "    for line in file:\n",
    "        l1000_name, uniprotkb_assension = line.rstrip().split('\\t')\n",
    "\n",
    "        if uniprotkb_assension == '?':\n",
    "            continue\n",
    "\n",
    "        with open(f'data/uniprot_data/by_id/{uniprotkb_assension}.json', 'r') as f:\n",
    "            protein_data = json.loads(f.read())\n",
    "\n",
    "            for comment in protein_data['comments']:\n",
    "                if comment['commentType'] == 'FUNCTION':\n",
    "                    function_description = comment['texts'][0]['value']\n",
    "\n",
    "                if comment['commentType'] == 'SUBUNIT':\n",
    "                    subunit_interactions = comment['texts'][0]['value']\n",
    "\n",
    "            uniprot_data.append((l1000_name, uniprotkb_assension, function_description, subunit_interactions))\n",
    "\n",
    "df = pd.DataFrame(uniprot_data, columns=['L1000_name', 'uniprotkb_assension', 'function_description', 'subunit_interactions'])\n",
    "df.to_csv(f'data/uniprot_data/uniprot_data.csv', index=False)"
   ]
  }
 ],
 "metadata": {
  "kernelspec": {
   "display_name": "orange",
   "language": "python",
   "name": "python3"
  },
  "language_info": {
   "codemirror_mode": {
    "name": "ipython",
    "version": 3
   },
   "file_extension": ".py",
   "mimetype": "text/x-python",
   "name": "python",
   "nbconvert_exporter": "python",
   "pygments_lexer": "ipython3",
   "version": "3.10.8"
  },
  "orig_nbformat": 4
 },
 "nbformat": 4,
 "nbformat_minor": 2
}
