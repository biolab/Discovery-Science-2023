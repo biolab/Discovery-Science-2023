{
 "cells": [
  {
   "attachments": {},
   "cell_type": "markdown",
   "metadata": {},
   "source": [
    "# 2.0 - Permutation test figure"
   ]
  },
  {
   "cell_type": "code",
   "execution_count": 1,
   "metadata": {},
   "outputs": [],
   "source": [
    "import os\n",
    "import numpy as np\n",
    "import pandas as pd\n",
    "import matplotlib.pyplot as plt\n",
    "from tqdm import tqdm"
   ]
  },
  {
   "attachments": {},
   "cell_type": "markdown",
   "metadata": {},
   "source": [
    "### TCGA interactions"
   ]
  },
  {
   "cell_type": "code",
   "execution_count": 2,
   "metadata": {},
   "outputs": [],
   "source": [
    "TCGA_PROJECT = \"HNSC\"\n",
    "GENES = pd.read_csv(\"../data/L1000.txt\", header=None)\n",
    "N_GENES = len(GENES)\n",
    "N_INTERACTIONS = int((N_GENES * (N_GENES-1))/2)\n",
    "\n",
    "use_columns = [\"interaction\", 'rmst_diff_f1+f2', 'rmst_diff_f1-f2', 'rmst_diff_f1*f2']\n",
    "\n",
    "tcga_interactions = pd.read_csv(f\"../computed_interactions/{TCGA_PROJECT}.csv\", index_col=[0], usecols=use_columns)\n",
    "tcga_interactions = tcga_interactions.fillna(-1).sort_values(by=[\"rmst_diff_f1-f2\"])"
   ]
  },
  {
   "attachments": {},
   "cell_type": "markdown",
   "metadata": {},
   "source": [
    "### TCGA permutation test results"
   ]
  },
  {
   "cell_type": "code",
   "execution_count": 3,
   "metadata": {},
   "outputs": [
    {
     "name": "stderr",
     "output_type": "stream",
     "text": [
      "100%|██████████| 100/100 [01:03<00:00,  1.56it/s]\n"
     ]
    }
   ],
   "source": [
    "tcga_permutations = [\n",
    "    pd.read_csv(f\"../computed_permutations/{TCGA_PROJECT}/{fn}\", index_col=[0], usecols=use_columns)\n",
    "    for fn in tqdm(os.listdir(f\"../computed_permutations/{TCGA_PROJECT}/\"))\n",
    "]"
   ]
  },
  {
   "attachments": {},
   "cell_type": "markdown",
   "metadata": {},
   "source": [
    "### Interaction values"
   ]
  },
  {
   "cell_type": "code",
   "execution_count": 4,
   "metadata": {},
   "outputs": [],
   "source": [
    "def get_interaction_values(df, interaction_column, N_INTERACTIONS=N_INTERACTIONS, placeholder=-1):\n",
    "    values = df[interaction_column].dropna().values\n",
    "    return np.append(values, [placeholder]*(N_INTERACTIONS - len(values)))"
   ]
  },
  {
   "cell_type": "code",
   "execution_count": 5,
   "metadata": {},
   "outputs": [],
   "source": [
    "PLACEHOLDER = -1\n",
    "\n",
    "tcga_interation_values_additive = get_interaction_values(tcga_interactions, \"rmst_diff_f1+f2\", N_INTERACTIONS, PLACEHOLDER)\n",
    "tcga_interation_values_competitive = get_interaction_values(tcga_interactions, \"rmst_diff_f1-f2\", N_INTERACTIONS, PLACEHOLDER)\n",
    "\n",
    "tcga_permutation_values = [\n",
    "    get_interaction_values(tcga_permutations[i], \"rmst_diff_f1+f2\", N_INTERACTIONS, PLACEHOLDER)\n",
    "    for i in range(len(tcga_permutations))\n",
    "]\n",
    "tcga_permutation_values_additive = np.concatenate(tcga_permutation_values)\n",
    "\n",
    "tcga_permutation_values = [\n",
    "    get_interaction_values(tcga_permutations[i], \"rmst_diff_f1-f2\", N_INTERACTIONS, PLACEHOLDER)\n",
    "    for i in range(len(tcga_permutations))\n",
    "]\n",
    "tcga_permutation_values_competitive = np.concatenate(tcga_permutation_values)"
   ]
  },
  {
   "cell_type": "code",
   "execution_count": 16,
   "metadata": {},
   "outputs": [],
   "source": [
    "BINS = 100\n",
    "\n",
    "def plot_interaction_distribution(tcga_interation_values, tcga_permutation_values, ax, sub_axes, PERMUTATION_LIMIT, BINS, TCGA_PROJECT, INTERACTION_COLUMN, interaction_color=\"red\"):\n",
    "    top_limit = np.sum(tcga_permutation_values > 0)/len(tcga_permutation_values) / np.sqrt(BINS)\n",
    "    top_limit_zoom = np.sum(tcga_permutation_values > np.percentile(tcga_permutation_values, PERMUTATION_LIMIT))/len(tcga_permutation_values) / 2\n",
    "\n",
    "    # f, ax = plt.subplots(1,1, figsize=(8,4))\n",
    "\n",
    "    ax.hist(tcga_interation_values, bins=BINS, color=interaction_color, zorder=5, density=True, alpha=0.5, label=f\"{INTERACTION_COLUMN} interaction\")\n",
    "    ax.hist(tcga_permutation_values, bins=BINS, color=\"gray\", zorder=3, density=True, alpha=0.7, label=\"permutations\")\n",
    "\n",
    "    ax.set_ylim(top=top_limit)\n",
    "    ax.set_xlim(0)\n",
    "\n",
    "    ## zoomin\n",
    "    low_threshold = np.percentile(tcga_permutation_values, PERMUTATION_LIMIT)\n",
    "\n",
    "    zoom_int_values = tcga_interation_values[tcga_interation_values > low_threshold]\n",
    "    zoom_per_values = tcga_permutation_values[tcga_permutation_values > low_threshold]\n",
    "\n",
    "    max_value = max((zoom_int_values.max(), zoom_per_values.max())) +1\n",
    "\n",
    "    #sub_axes = f.add_axes([0.45, 0.43, 0.4, 0.4])  # Creating a new axes for the zoomed-in plot\n",
    "    sub_axes.hist(tcga_interation_values, bins=BINS, color=interaction_color, zorder=5, density=True, alpha=0.5, label=f\"$n={len(zoom_int_values)}$\", range=(-2, max_value))\n",
    "    sub_axes.hist(tcga_permutation_values, bins=BINS, color=\"gray\", zorder=3, density=True, alpha=0.7, label=f\"$ñ={len(zoom_per_values)/len(tcga_permutations):.1f}$\", range=(-2, max_value))\n",
    "\n",
    "    sub_axes.set_ylim(0, top_limit_zoom)\n",
    "    sub_axes.set_xlim([np.percentile(tcga_permutation_values, PERMUTATION_LIMIT), max_value +1])\n",
    "\n",
    "    for a in [ax, sub_axes]:\n",
    "        for loc in [\"top\", \"right\"]:\n",
    "            a.spines[loc].set_visible(False)\n",
    "        a.set_yticks([])\n",
    "        \n",
    "    sub_axes.legend(fontsize=11, frameon=False, title=\"Num. of hits\", title_fontsize=12)\n",
    "    ax.legend(fontsize=11, frameon=False, loc=2)\n",
    "\n",
    "    for a in [ax, sub_axes]:\n",
    "        a.set_xlabel(\"RMST difference\", fontsize=12)\n",
    "        a.set_ylabel(\"density\", fontsize=12)\n",
    "\n",
    "\n",
    "    # ax.set_title(f\"TCGA-{TCGA_PROJECT} ({INTERACTION_COLUMN})\", fontsize=14)"
   ]
  },
  {
   "cell_type": "code",
   "execution_count": 18,
   "metadata": {},
   "outputs": [
    {
     "data": {
      "image/png": "[encoded data removed]",
      "text/plain": [
       "<Figure size 1000x300 with 4 Axes>"
      ]
     },
     "metadata": {},
     "output_type": "display_data"
    }
   ],
   "source": [
    "PERMUTATION_LIMIT = 99.99\n",
    "BINS = 100\n",
    "\n",
    "f, ax = plt.subplots(1,2, figsize=(10,3), gridspec_kw={\"wspace\": 0.03})\n",
    "\n",
    "sub_height = 0.35\n",
    "sub_width = 0.25\n",
    "sub_ax0 = f.add_axes([0.25, 0.33, sub_width, sub_height])\n",
    "sub_ax1 = f.add_axes([0.65, 0.33, sub_width, sub_height])\n",
    "\n",
    "\n",
    "plot_interaction_distribution(\n",
    "    tcga_interation_values=tcga_interation_values_additive,\n",
    "    tcga_permutation_values=tcga_permutation_values_additive,\n",
    "    ax=ax[0], sub_axes=sub_ax0,\n",
    "    PERMUTATION_LIMIT=PERMUTATION_LIMIT,\n",
    "    BINS=BINS,\n",
    "    TCGA_PROJECT=TCGA_PROJECT, INTERACTION_COLUMN=\"additive\",\n",
    "    interaction_color=\"royalblue\"\n",
    ")\n",
    "\n",
    "plot_interaction_distribution(\n",
    "    tcga_interation_values=tcga_interation_values_competitive,\n",
    "    tcga_permutation_values=tcga_permutation_values_competitive,\n",
    "    ax=ax[1], sub_axes=sub_ax1,\n",
    "    PERMUTATION_LIMIT=PERMUTATION_LIMIT,\n",
    "    BINS=BINS,\n",
    "    TCGA_PROJECT=TCGA_PROJECT, INTERACTION_COLUMN=\"competing\",\n",
    "    interaction_color=\"red\"\n",
    ")\n",
    "\n",
    "ax[1].set_ylabel(None)\n",
    "for subax in [sub_ax0, sub_ax1]:\n",
    "    subax.set_ylabel(None)\n",
    "    subax.set_xlabel(None)\n",
    "\n",
    "f.savefig(\"../figures/figure5_permutation_test_additive-competing.pdf\", dpi=500, bbox_inches=\"tight\")"
   ]
  },
  {
   "cell_type": "code",
   "execution_count": null,
   "metadata": {},
   "outputs": [],
   "source": []
  }
 ],
 "metadata": {
  "kernelspec": {
   "display_name": "ssl-latent",
   "language": "python",
   "name": "python3"
  },
  "language_info": {
   "codemirror_mode": {
    "name": "ipython",
    "version": 3
   },
   "file_extension": ".py",
   "mimetype": "text/x-python",
   "name": "python",
   "nbconvert_exporter": "python",
   "pygments_lexer": "ipython3",
   "version": "3.9.16"
  },
  "orig_nbformat": 4
 },
 "nbformat": 4,
 "nbformat_minor": 2
}
